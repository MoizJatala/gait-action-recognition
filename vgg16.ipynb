{
 "cells": [
  {
   "cell_type": "markdown",
   "metadata": {},
   "source": [
    "### Importing Libraries"
   ]
  },
  {
   "cell_type": "code",
   "execution_count": 1,
   "metadata": {},
   "outputs": [
    {
     "name": "stderr",
     "output_type": "stream",
     "text": [
      "/home/saad-bscs/.local/lib/python3.10/site-packages/matplotlib/projections/__init__.py:63: UserWarning: Unable to import Axes3D. This may be due to multiple versions of Matplotlib being installed (e.g. as a system package and as a pip package). As a result, the 3D projection is not available.\n",
      "  warnings.warn(\"Unable to import Axes3D. This may be due to multiple versions of \"\n",
      "2023-11-27 23:42:03.001428: I tensorflow/core/util/port.cc:110] oneDNN custom operations are on. You may see slightly different numerical results due to floating-point round-off errors from different computation orders. To turn them off, set the environment variable `TF_ENABLE_ONEDNN_OPTS=0`.\n",
      "2023-11-27 23:42:03.058158: I tensorflow/core/platform/cpu_feature_guard.cc:182] This TensorFlow binary is optimized to use available CPU instructions in performance-critical operations.\n",
      "To enable the following instructions: AVX2 AVX512F AVX512_VNNI FMA, in other operations, rebuild TensorFlow with the appropriate compiler flags.\n",
      "2023-11-27 23:42:03.892776: W tensorflow/compiler/tf2tensorrt/utils/py_utils.cc:38] TF-TRT Warning: Could not find TensorRT\n"
     ]
    }
   ],
   "source": [
    "import os\n",
    "import matplotlib.pyplot as plt\n",
    "from tensorflow.keras.preprocessing.image import ImageDataGenerator\n",
    "from tensorflow.keras.applications import VGG16\n",
    "from tensorflow.keras.layers import (\n",
    "    Dense,\n",
    "    GlobalAveragePooling2D,\n",
    "    BatchNormalization,\n",
    "    Dropout\n",
    ")\n",
    "from tensorflow.keras.losses import CategoricalCrossentropy\n",
    "from tensorflow.keras.regularizers import l2\n",
    "from tensorflow.keras.models import Model\n",
    "from tensorflow.keras.optimizers import RMSprop\n",
    "import tensorflow as tf\n",
    "tf.random.set_seed(42)"
   ]
  },
  {
   "cell_type": "markdown",
   "metadata": {},
   "source": [
    "### Constants"
   ]
  },
  {
   "cell_type": "code",
   "execution_count": 2,
   "metadata": {},
   "outputs": [],
   "source": [
    "img_height, img_width = 128, 128\n",
    "batch_size = 32\n",
    "num_classes = 124\n",
    "data_dir = os.path.join(os.getcwd(), \"gei/\")"
   ]
  },
  {
   "cell_type": "markdown",
   "metadata": {},
   "source": [
    "### Training Data Augmentation"
   ]
  },
  {
   "cell_type": "code",
   "execution_count": 3,
   "metadata": {},
   "outputs": [],
   "source": [
    "train_datagen = ImageDataGenerator(\n",
    "    rescale=1.0 / 255,\n",
    "    validation_split=0.15,\n",
    "    rotation_range=20,\n",
    "    width_shift_range=0.2,\n",
    "    height_shift_range=0.2,\n",
    "    shear_range=0.2,\n",
    "    horizontal_flip=True,\n",
    "    fill_mode=\"nearest\",\n",
    "    brightness_range=[0.8, 1.2],\n",
    "    channel_shift_range=10,\n",
    "    zoom_range=[0.8, 1.2],\n",
    ")"
   ]
  },
  {
   "cell_type": "markdown",
   "metadata": {},
   "source": [
    "### Testing Data Augmentation"
   ]
  },
  {
   "cell_type": "code",
   "execution_count": 4,
   "metadata": {},
   "outputs": [],
   "source": [
    "test_datagen = ImageDataGenerator(rescale=1.0 / 255, validation_split=0.15)"
   ]
  },
  {
   "cell_type": "markdown",
   "metadata": {},
   "source": [
    "### Load and split data into training and testing sets"
   ]
  },
  {
   "cell_type": "code",
   "execution_count": 5,
   "metadata": {},
   "outputs": [
    {
     "name": "stdout",
     "output_type": "stream",
     "text": [
      "Found 11656 images belonging to 124 classes.\n",
      "Found 1984 images belonging to 124 classes.\n"
     ]
    }
   ],
   "source": [
    "train_generator = train_datagen.flow_from_directory(\n",
    "    data_dir,\n",
    "    target_size=(img_height, img_width),\n",
    "    batch_size=batch_size,\n",
    "    class_mode=\"categorical\",\n",
    "    subset=\"training\",\n",
    "    shuffle=True,\n",
    "    seed=42,\n",
    ")\n",
    "\n",
    "test_generator = test_datagen.flow_from_directory(\n",
    "    data_dir,\n",
    "    target_size=(img_height, img_width),\n",
    "    batch_size=batch_size,\n",
    "    class_mode=\"categorical\",\n",
    "    subset=\"validation\",\n",
    "    shuffle=False,\n",
    "    seed=42,\n",
    ")"
   ]
  },
  {
   "cell_type": "markdown",
   "metadata": {},
   "source": [
    "### Load pre-trained VGG16 without top layers"
   ]
  },
  {
   "cell_type": "code",
   "execution_count": 6,
   "metadata": {},
   "outputs": [
    {
     "name": "stderr",
     "output_type": "stream",
     "text": [
      "2023-11-27 23:42:05.935532: W tensorflow/core/common_runtime/gpu/gpu_device.cc:1960] Cannot dlopen some GPU libraries. Please make sure the missing libraries mentioned above are installed properly if you would like to use GPU. Follow the guide at https://www.tensorflow.org/install/gpu for how to download and setup the required libraries for your platform.\n",
      "Skipping registering GPU devices...\n"
     ]
    }
   ],
   "source": [
    "base_model = VGG16(weights='imagenet', include_top=False,\n",
    "                   input_shape=(img_height, img_width, 3))"
   ]
  },
  {
   "cell_type": "markdown",
   "metadata": {},
   "source": [
    "### Add custom classification layers"
   ]
  },
  {
   "cell_type": "code",
   "execution_count": 7,
   "metadata": {},
   "outputs": [],
   "source": [
    "x = base_model.output\n",
    "x = GlobalAveragePooling2D()(x)\n",
    "x = BatchNormalization()(x)\n",
    "x = Dropout(0.5)(x)\n",
    "x = Dense(1024, activation=\"relu\", kernel_regularizer=l2(0.001))(x)\n",
    "x = BatchNormalization()(x)\n",
    "x = Dropout(0.5)(x)\n",
    "x = Dense(1024, activation=\"relu\", kernel_regularizer=l2(0.001))(x)\n",
    "predictions = Dense(num_classes, activation='linear',\n",
    "                    kernel_regularizer=l2(0.003))(x)"
   ]
  },
  {
   "cell_type": "markdown",
   "metadata": {},
   "source": [
    "### Create the model"
   ]
  },
  {
   "cell_type": "code",
   "execution_count": 8,
   "metadata": {},
   "outputs": [],
   "source": [
    "model = Model(inputs=base_model.input, outputs=predictions)"
   ]
  },
  {
   "cell_type": "markdown",
   "metadata": {},
   "source": [
    "### Fine Tune the layers"
   ]
  },
  {
   "cell_type": "code",
   "execution_count": 9,
   "metadata": {},
   "outputs": [],
   "source": [
    "for layer in model.layers:\n",
    "    layer.trainable = True"
   ]
  },
  {
   "cell_type": "markdown",
   "metadata": {},
   "source": [
    "### Compile the model"
   ]
  },
  {
   "cell_type": "code",
   "execution_count": 10,
   "metadata": {},
   "outputs": [],
   "source": [
    "model.compile(\n",
    "    optimizer=RMSprop(\n",
    "        learning_rate=1e-4,\n",
    "        rho=0.9,\n",
    "        momentum=0.0,\n",
    "        epsilon=1e-07,\n",
    "        centered=False,\n",
    "        name=\"RMSprop\",\n",
    "    ),\n",
    "    loss=CategoricalCrossentropy(from_logits=True),\n",
    "    metrics=[\"accuracy\"],\n",
    ")"
   ]
  },
  {
   "cell_type": "markdown",
   "metadata": {},
   "source": [
    "### Train the model"
   ]
  },
  {
   "cell_type": "code",
   "execution_count": 11,
   "metadata": {},
   "outputs": [
    {
     "name": "stdout",
     "output_type": "stream",
     "text": [
      "Epoch 1/48\n",
      "365/365 [==============================] - 493s 1s/step - loss: 7.6182 - accuracy: 0.0092 - val_loss: 17.9873 - val_accuracy: 0.0091\n",
      "Epoch 2/48\n",
      "365/365 [==============================] - 487s 1s/step - loss: 7.2910 - accuracy: 0.0107 - val_loss: 91.9054 - val_accuracy: 0.0081\n",
      "Epoch 3/48\n",
      "365/365 [==============================] - 488s 1s/step - loss: 7.0741 - accuracy: 0.0140 - val_loss: 21.9200 - val_accuracy: 0.0101\n",
      "Epoch 4/48\n",
      "365/365 [==============================] - 489s 1s/step - loss: 6.8947 - accuracy: 0.0163 - val_loss: 162.5044 - val_accuracy: 0.0081\n",
      "Epoch 5/48\n",
      "365/365 [==============================] - 491s 1s/step - loss: 6.8271 - accuracy: 0.0135 - val_loss: 8.1373 - val_accuracy: 0.0060\n",
      "Epoch 6/48\n",
      "365/365 [==============================] - 489s 1s/step - loss: 6.7837 - accuracy: 0.0171 - val_loss: 8.7018 - val_accuracy: 0.0136\n",
      "Epoch 7/48\n",
      "365/365 [==============================] - 487s 1s/step - loss: 6.7952 - accuracy: 0.0172 - val_loss: 7.3182 - val_accuracy: 0.0131\n",
      "Epoch 8/48\n",
      "365/365 [==============================] - 486s 1s/step - loss: 6.8123 - accuracy: 0.0188 - val_loss: 8.1483 - val_accuracy: 0.0071\n",
      "Epoch 9/48\n",
      "365/365 [==============================] - 488s 1s/step - loss: 6.8302 - accuracy: 0.0195 - val_loss: 6.7303 - val_accuracy: 0.0217\n",
      "Epoch 10/48\n",
      "365/365 [==============================] - 488s 1s/step - loss: 6.8620 - accuracy: 0.0241 - val_loss: 6.8818 - val_accuracy: 0.0161\n",
      "Epoch 11/48\n",
      "365/365 [==============================] - 488s 1s/step - loss: 6.7732 - accuracy: 0.0371 - val_loss: 6.9497 - val_accuracy: 0.0524\n",
      "Epoch 12/48\n",
      "365/365 [==============================] - 489s 1s/step - loss: 6.6262 - accuracy: 0.0619 - val_loss: 7.8968 - val_accuracy: 0.0338\n",
      "Epoch 13/48\n",
      "365/365 [==============================] - 488s 1s/step - loss: 6.5434 - accuracy: 0.0828 - val_loss: 6.3048 - val_accuracy: 0.1240\n",
      "Epoch 14/48\n",
      "365/365 [==============================] - 489s 1s/step - loss: 6.4990 - accuracy: 0.1059 - val_loss: 7.0707 - val_accuracy: 0.0837\n",
      "Epoch 15/48\n",
      "365/365 [==============================] - 490s 1s/step - loss: 6.4345 - accuracy: 0.1338 - val_loss: 6.8730 - val_accuracy: 0.1013\n",
      "Epoch 16/48\n",
      "365/365 [==============================] - 489s 1s/step - loss: 6.3769 - accuracy: 0.1623 - val_loss: 6.0120 - val_accuracy: 0.2354\n",
      "Epoch 17/48\n",
      "365/365 [==============================] - 489s 1s/step - loss: 6.2806 - accuracy: 0.1971 - val_loss: 7.0961 - val_accuracy: 0.1462\n",
      "Epoch 18/48\n",
      "365/365 [==============================] - 489s 1s/step - loss: 6.1789 - accuracy: 0.2402 - val_loss: 6.0847 - val_accuracy: 0.2666\n",
      "Epoch 19/48\n",
      "365/365 [==============================] - 489s 1s/step - loss: 6.0970 - accuracy: 0.2775 - val_loss: 5.9164 - val_accuracy: 0.3286\n",
      "Epoch 20/48\n",
      "365/365 [==============================] - 490s 1s/step - loss: 6.0037 - accuracy: 0.3169 - val_loss: 6.0638 - val_accuracy: 0.3337\n",
      "Epoch 21/48\n",
      "365/365 [==============================] - 490s 1s/step - loss: 5.9060 - accuracy: 0.3541 - val_loss: 6.3591 - val_accuracy: 0.2661\n",
      "Epoch 22/48\n",
      "365/365 [==============================] - 489s 1s/step - loss: 5.8194 - accuracy: 0.3910 - val_loss: 6.6990 - val_accuracy: 0.2833\n",
      "Epoch 23/48\n",
      "365/365 [==============================] - 489s 1s/step - loss: 5.7641 - accuracy: 0.4182 - val_loss: 6.0315 - val_accuracy: 0.3785\n",
      "Epoch 24/48\n",
      "365/365 [==============================] - 490s 1s/step - loss: 5.7076 - accuracy: 0.4415 - val_loss: 5.7346 - val_accuracy: 0.4622\n",
      "Epoch 25/48\n",
      "365/365 [==============================] - 489s 1s/step - loss: 5.6325 - accuracy: 0.4745 - val_loss: 6.0711 - val_accuracy: 0.3851\n",
      "Epoch 26/48\n",
      "365/365 [==============================] - 490s 1s/step - loss: 5.5900 - accuracy: 0.4947 - val_loss: 6.0847 - val_accuracy: 0.4103\n",
      "Epoch 27/48\n",
      "365/365 [==============================] - 489s 1s/step - loss: 5.5046 - accuracy: 0.5275 - val_loss: 6.5941 - val_accuracy: 0.3503\n",
      "Epoch 28/48\n",
      "365/365 [==============================] - 489s 1s/step - loss: 5.4361 - accuracy: 0.5407 - val_loss: 5.6889 - val_accuracy: 0.5096\n",
      "Epoch 29/48\n",
      "365/365 [==============================] - 488s 1s/step - loss: 5.3884 - accuracy: 0.5607 - val_loss: 5.5517 - val_accuracy: 0.5423\n",
      "Epoch 30/48\n",
      "365/365 [==============================] - 490s 1s/step - loss: 5.3220 - accuracy: 0.5798 - val_loss: 7.5641 - val_accuracy: 0.2868\n",
      "Epoch 31/48\n",
      "365/365 [==============================] - 490s 1s/step - loss: 5.2748 - accuracy: 0.5990 - val_loss: 5.5751 - val_accuracy: 0.5474\n",
      "Epoch 32/48\n",
      "365/365 [==============================] - 490s 1s/step - loss: 5.2144 - accuracy: 0.6049 - val_loss: 5.8238 - val_accuracy: 0.5010\n",
      "Epoch 33/48\n",
      "365/365 [==============================] - 491s 1s/step - loss: 5.1170 - accuracy: 0.6293 - val_loss: 6.3209 - val_accuracy: 0.4204\n",
      "Epoch 34/48\n",
      "365/365 [==============================] - 489s 1s/step - loss: 5.0764 - accuracy: 0.6401 - val_loss: 5.6262 - val_accuracy: 0.5378\n",
      "Epoch 35/48\n",
      "365/365 [==============================] - 489s 1s/step - loss: 4.9956 - accuracy: 0.6533 - val_loss: 5.3998 - val_accuracy: 0.5847\n",
      "Epoch 36/48\n",
      "365/365 [==============================] - 490s 1s/step - loss: 4.9002 - accuracy: 0.6685 - val_loss: 5.3356 - val_accuracy: 0.5857\n",
      "Epoch 37/48\n",
      "365/365 [==============================] - 490s 1s/step - loss: 4.8242 - accuracy: 0.6816 - val_loss: 5.3901 - val_accuracy: 0.5665\n",
      "Epoch 38/48\n",
      "365/365 [==============================] - 490s 1s/step - loss: 4.7625 - accuracy: 0.6881 - val_loss: 5.2559 - val_accuracy: 0.5872\n",
      "Epoch 39/48\n",
      "365/365 [==============================] - 487s 1s/step - loss: 4.6560 - accuracy: 0.7112 - val_loss: 5.0369 - val_accuracy: 0.6195\n",
      "Epoch 40/48\n",
      "365/365 [==============================] - 488s 1s/step - loss: 4.5460 - accuracy: 0.7260 - val_loss: 4.7851 - val_accuracy: 0.6658\n",
      "Epoch 41/48\n",
      "365/365 [==============================] - 490s 1s/step - loss: 4.4787 - accuracy: 0.7249 - val_loss: 5.0181 - val_accuracy: 0.6215\n",
      "Epoch 42/48\n",
      "365/365 [==============================] - 490s 1s/step - loss: 4.3743 - accuracy: 0.7403 - val_loss: 4.8042 - val_accuracy: 0.6396\n",
      "Epoch 43/48\n",
      "365/365 [==============================] - 490s 1s/step - loss: 4.2934 - accuracy: 0.7481 - val_loss: 4.6987 - val_accuracy: 0.6638\n",
      "Epoch 44/48\n",
      "365/365 [==============================] - 489s 1s/step - loss: 4.1783 - accuracy: 0.7625 - val_loss: 5.0691 - val_accuracy: 0.5549\n",
      "Epoch 45/48\n",
      "365/365 [==============================] - 490s 1s/step - loss: 4.1031 - accuracy: 0.7658 - val_loss: 4.4814 - val_accuracy: 0.6769\n",
      "Epoch 46/48\n",
      "365/365 [==============================] - 491s 1s/step - loss: 4.0099 - accuracy: 0.7702 - val_loss: 5.0855 - val_accuracy: 0.5242\n",
      "Epoch 47/48\n",
      "365/365 [==============================] - 491s 1s/step - loss: 3.8860 - accuracy: 0.7862 - val_loss: 4.3656 - val_accuracy: 0.6593\n",
      "Epoch 48/48\n",
      "365/365 [==============================] - 491s 1s/step - loss: 3.8060 - accuracy: 0.7917 - val_loss: 4.0694 - val_accuracy: 0.7067\n"
     ]
    }
   ],
   "source": [
    "history = model.fit(train_generator, epochs=48, validation_data=test_generator)"
   ]
  },
  {
   "cell_type": "markdown",
   "metadata": {},
   "source": [
    "### Evaluate model on training set"
   ]
  },
  {
   "cell_type": "code",
   "execution_count": 12,
   "metadata": {},
   "outputs": [
    {
     "name": "stdout",
     "output_type": "stream",
     "text": [
      "365/365 [==============================] - 154s 421ms/step - loss: 3.5328 - accuracy: 0.8546\n",
      "Training accuracy: 0.854581356048584\n"
     ]
    }
   ],
   "source": [
    "train_loss, train_accuracy = model.evaluate(train_generator)\n",
    "print(f\"Training accuracy: {train_accuracy}\")"
   ]
  },
  {
   "cell_type": "markdown",
   "metadata": {},
   "source": [
    "### Evaluate model on testing set"
   ]
  },
  {
   "cell_type": "code",
   "execution_count": 13,
   "metadata": {},
   "outputs": [
    {
     "name": "stdout",
     "output_type": "stream",
     "text": [
      "62/62 [==============================] - 25s 408ms/step - loss: 4.0694 - accuracy: 0.7067\n",
      "Testing accuracy: 0.7066532373428345\n"
     ]
    }
   ],
   "source": [
    "test_loss, test_accuracy = model.evaluate(test_generator)\n",
    "print(f\"Testing accuracy: {test_accuracy}\")"
   ]
  },
  {
   "cell_type": "markdown",
   "metadata": {},
   "source": [
    "### Save the model"
   ]
  },
  {
   "cell_type": "code",
   "execution_count": 14,
   "metadata": {},
   "outputs": [
    {
     "name": "stderr",
     "output_type": "stream",
     "text": [
      "/usr/local/lib/python3.10/dist-packages/keras/src/engine/training.py:3000: UserWarning: You are saving your model as an HDF5 file via `model.save()`. This file format is considered legacy. We recommend using instead the native Keras format, e.g. `model.save('my_model.keras')`.\n",
      "  saving_api.save_model(\n"
     ]
    }
   ],
   "source": [
    "model.save('gait_vgg16.h5')"
   ]
  },
  {
   "cell_type": "markdown",
   "metadata": {},
   "source": [
    "### Model Summary"
   ]
  },
  {
   "cell_type": "code",
   "execution_count": 15,
   "metadata": {},
   "outputs": [
    {
     "name": "stdout",
     "output_type": "stream",
     "text": [
      "Model: \"model\"\n",
      "_________________________________________________________________\n",
      " Layer (type)                Output Shape              Param #   \n",
      "=================================================================\n",
      " input_1 (InputLayer)        [(None, 128, 128, 3)]     0         \n",
      "                                                                 \n",
      " block1_conv1 (Conv2D)       (None, 128, 128, 64)      1792      \n",
      "                                                                 \n",
      " block1_conv2 (Conv2D)       (None, 128, 128, 64)      36928     \n",
      "                                                                 \n",
      " block1_pool (MaxPooling2D)  (None, 64, 64, 64)        0         \n",
      "                                                                 \n",
      " block2_conv1 (Conv2D)       (None, 64, 64, 128)       73856     \n",
      "                                                                 \n",
      " block2_conv2 (Conv2D)       (None, 64, 64, 128)       147584    \n",
      "                                                                 \n",
      " block2_pool (MaxPooling2D)  (None, 32, 32, 128)       0         \n",
      "                                                                 \n",
      " block3_conv1 (Conv2D)       (None, 32, 32, 256)       295168    \n",
      "                                                                 \n",
      " block3_conv2 (Conv2D)       (None, 32, 32, 256)       590080    \n",
      "                                                                 \n",
      " block3_conv3 (Conv2D)       (None, 32, 32, 256)       590080    \n",
      "                                                                 \n",
      " block3_pool (MaxPooling2D)  (None, 16, 16, 256)       0         \n",
      "                                                                 \n",
      " block4_conv1 (Conv2D)       (None, 16, 16, 512)       1180160   \n",
      "                                                                 \n",
      " block4_conv2 (Conv2D)       (None, 16, 16, 512)       2359808   \n",
      "                                                                 \n",
      " block4_conv3 (Conv2D)       (None, 16, 16, 512)       2359808   \n",
      "                                                                 \n",
      " block4_pool (MaxPooling2D)  (None, 8, 8, 512)         0         \n",
      "                                                                 \n",
      " block5_conv1 (Conv2D)       (None, 8, 8, 512)         2359808   \n",
      "                                                                 \n",
      " block5_conv2 (Conv2D)       (None, 8, 8, 512)         2359808   \n",
      "                                                                 \n",
      " block5_conv3 (Conv2D)       (None, 8, 8, 512)         2359808   \n",
      "                                                                 \n",
      " block5_pool (MaxPooling2D)  (None, 4, 4, 512)         0         \n",
      "                                                                 \n",
      " global_average_pooling2d (  (None, 512)               0         \n",
      " GlobalAveragePooling2D)                                         \n",
      "                                                                 \n",
      " batch_normalization (Batch  (None, 512)               2048      \n",
      " Normalization)                                                  \n",
      "                                                                 \n",
      " dropout (Dropout)           (None, 512)               0         \n",
      "                                                                 \n",
      " dense (Dense)               (None, 1024)              525312    \n",
      "                                                                 \n",
      " batch_normalization_1 (Bat  (None, 1024)              4096      \n",
      " chNormalization)                                                \n",
      "                                                                 \n",
      " dropout_1 (Dropout)         (None, 1024)              0         \n",
      "                                                                 \n",
      " dense_1 (Dense)             (None, 1024)              1049600   \n",
      "                                                                 \n",
      " dense_2 (Dense)             (None, 124)               127100    \n",
      "                                                                 \n",
      "=================================================================\n",
      "Total params: 16422844 (62.65 MB)\n",
      "Trainable params: 16419772 (62.64 MB)\n",
      "Non-trainable params: 3072 (12.00 KB)\n",
      "_________________________________________________________________\n"
     ]
    }
   ],
   "source": [
    "model.summary()"
   ]
  },
  {
   "cell_type": "markdown",
   "metadata": {},
   "source": [
    "### Plot Training & Validation Accuracy"
   ]
  },
  {
   "cell_type": "code",
   "execution_count": 16,
   "metadata": {},
   "outputs": [
    {
     "data": {
      "image/png": "[encoded data removed]",
      "text/plain": [
       "<Figure size 640x480 with 1 Axes>"
      ]
     },
     "metadata": {},
     "output_type": "display_data"
    }
   ],
   "source": [
    "plt.plot(history.history['accuracy'], color='blue', label='Training Accuracy')\n",
    "plt.plot(history.history['val_accuracy'],\n",
    "         color='red', label='Validation Accuracy')\n",
    "plt.title('Model Accuracy')\n",
    "plt.xlabel('Epoch')\n",
    "plt.ylabel('Accuracy')\n",
    "plt.legend()\n",
    "plt.show()"
   ]
  },
  {
   "cell_type": "markdown",
   "metadata": {},
   "source": [
    "### Plot Training and Validation Loss"
   ]
  },
  {
   "cell_type": "code",
   "execution_count": 18,
   "metadata": {},
   "outputs": [
    {
     "data": {
      "image/png": "[encoded data removed]",
      "text/plain": [
       "<Figure size 640x480 with 1 Axes>"
      ]
     },
     "metadata": {},
     "output_type": "display_data"
    }
   ],
   "source": [
    "plt.plot(history.history['loss'], color='blue', label='Training Loss')\n",
    "plt.plot(history.history['val_loss'],\n",
    "         color='red', label='Validation Loss')\n",
    "plt.title('Model Loss')\n",
    "plt.xlabel('Epoch')\n",
    "plt.ylabel('Loss')\n",
    "plt.legend()\n",
    "plt.show()"
   ]
  }
 ],
 "metadata": {
  "kernelspec": {
   "display_name": "Python 3",
   "language": "python",
   "name": "python3"
  },
  "language_info": {
   "codemirror_mode": {
    "name": "ipython",
    "version": 3
   },
   "file_extension": ".py",
   "mimetype": "text/x-python",
   "name": "python",
   "nbconvert_exporter": "python",
   "pygments_lexer": "ipython3",
   "version": "3.10.12"
  }
 },
 "nbformat": 4,
 "nbformat_minor": 2
}
